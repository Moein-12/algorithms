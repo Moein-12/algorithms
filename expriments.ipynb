{
 "cells": [
  {
   "cell_type": "markdown",
   "id": "45405f89",
   "metadata": {},
   "source": [
    "### 1. testing how python supports competitors\n",
    "some functions like `__eq__` has opposite operator, and some other operations are not\n",
    "handleable by left side (default) so like for `a + b` (`a.__add__(b)`) that if a doesn't\n",
    "have `__add__(...)`, python tries `b.__radd__(a)`. here testing those properties\n",
    "\n",
    "the way to figure it out is simple actually, we let it run repeatedly and simply delete\n",
    "the last used method so it have to try a new way until it can't no more."
   ]
  },
  {
   "cell_type": "code",
   "execution_count": 49,
   "id": "3270f6da",
   "metadata": {},
   "outputs": [
    {
     "name": "stdout",
     "output_type": "stream",
     "text": [
      "attempt: 1\n",
      "a.__gt__(b)\n",
      "\n",
      "attempt: 2\n",
      "b.__lt__(a)\n",
      "\n",
      "attempt: 3\n",
      "failed\n"
     ]
    }
   ],
   "source": [
    "from typing import Any\n",
    "\n",
    "\n",
    "# creates a dummy method that instead of acting as a comparison operator\n",
    "# is a logger that after the first call deletes itself from the class\n",
    "def one_time_callable(name):\n",
    "    def wrapped(self, *args, **kwargs) -> Any:\n",
    "        str_args = tuple(map(str, args))\n",
    "        str_kwargs = tuple(map('{}={}'.format, kwargs.items()))\n",
    "        call_props = '(%s)' % ', '.join(str_args + str_kwargs)\n",
    "        print(self.name, name, sep='.', end=call_props + '\\n')\n",
    "\n",
    "        delattr(test, name)\n",
    "\n",
    "    return wrapped\n",
    "\n",
    "\n",
    "# a simple class that will be used to test the comparison operators\n",
    "# which certainly contains any needed methods to be compared\n",
    "class test:\n",
    "    def __init__(self, name):\n",
    "        self.name = name\n",
    "\n",
    "    def __str__(self) -> str:\n",
    "        return self.name\n",
    "\n",
    "    __lt__ = one_time_callable(\"__lt__\")\n",
    "    __le__ = one_time_callable(\"__le__\")\n",
    "    __eq__ = one_time_callable(\"__eq__\")\n",
    "    __ne__ = one_time_callable(\"__ne__\")\n",
    "    __gt__ = one_time_callable(\"__gt__\")\n",
    "    __ge__ = one_time_callable(\"__ge__\")\n",
    "\n",
    "\n",
    "i = 1\n",
    "while True:\n",
    "    print(f'attempt:', i)\n",
    "    try:\n",
    "        test('a') > test('b')  # type: ignore\n",
    "    except TypeError:\n",
    "        print('failed')\n",
    "        break\n",
    "    print()\n",
    "    i += 1"
   ]
  }
 ],
 "metadata": {
  "kernelspec": {
   "display_name": "Python 3",
   "language": "python",
   "name": "python3"
  },
  "language_info": {
   "codemirror_mode": {
    "name": "ipython",
    "version": 3
   },
   "file_extension": ".py",
   "mimetype": "text/x-python",
   "name": "python",
   "nbconvert_exporter": "python",
   "pygments_lexer": "ipython3",
   "version": "3.13.2"
  }
 },
 "nbformat": 4,
 "nbformat_minor": 5
}
